{
 "cells": [
  {
   "cell_type": "code",
   "execution_count": 1,
   "metadata": {},
   "outputs": [],
   "source": [
    "import cv2\n",
    "import numpy as np\n",
    "from utilities import show, label_contour"
   ]
  },
  {
   "cell_type": "code",
   "execution_count": 2,
   "metadata": {},
   "outputs": [],
   "source": [
    "class ShapeDetector:\n",
    "    def __init__(self):\n",
    "        pass\n",
    "    \n",
    "    def detect(self, c):\n",
    "        shape = 'unidentified'\n",
    "        peri = cv2.arcLength(c, True)\n",
    "        approx = cv2.approxPolyDP(c, 0.01*peri, True)\n",
    "        \n",
    "        if len(approx) == 3:\n",
    "            shape = 'triangle'\n",
    "        elif len(approx) == 4:\n",
    "            x, y, w, h = cv2.boundingRect(approx)\n",
    "            shape = 'square' if 0.95 < w/h < 1.05 else 'rectangle'\n",
    "        elif len(approx) == 5:           \n",
    "            shape = 'pentagon'\n",
    "        elif len(approx) == 10:\n",
    "            shape = 'star'\n",
    "        elif len(approx) > 14:\n",
    "            shape = 'circle'\n",
    "            \n",
    "        return shape"
   ]
  },
  {
   "cell_type": "code",
   "execution_count": 3,
   "metadata": {},
   "outputs": [],
   "source": [
    "path = r'images/shapes.jpg'\n",
    "image = cv2.imread(path)\n",
    "gray = cv2.cvtColor(image, cv2.COLOR_BGR2GRAY)\n",
    "# show(shapes)"
   ]
  },
  {
   "cell_type": "code",
   "execution_count": 4,
   "metadata": {},
   "outputs": [],
   "source": [
    "blur = cv2.GaussianBlur(gray, (5, 5), 0)\n",
    "thresh = cv2.threshold(blur, 50, 255, cv2.THRESH_BINARY)[1]\n",
    "_, contours, _ = cv2.findContours(thresh.copy(), cv2.RETR_EXTERNAL, cv2.CHAIN_APPROX_SIMPLE)\n",
    "sd = ShapeDetector()"
   ]
  },
  {
   "cell_type": "code",
   "execution_count": 5,
   "metadata": {},
   "outputs": [],
   "source": [
    "for cnt in contours[:]:\n",
    "    shape = sd.detect(cnt)\n",
    "    label_contour(image, cnt, shape, (0, 255, 0))\n",
    "    cv2.imshow('Shapes', image)\n",
    "    cv2.waitKey(0)\n",
    "    \n",
    "cv2.destroyAllWindows()"
   ]
  },
  {
   "cell_type": "code",
   "execution_count": null,
   "metadata": {},
   "outputs": [],
   "source": [
    "#to add color\n",
    "#https://www.pyimagesearch.com/2016/02/15/determining-object-color-with-opencv/"
   ]
  }
 ],
 "metadata": {
  "kernelspec": {
   "display_name": "Python 3",
   "language": "python",
   "name": "python3"
  },
  "language_info": {
   "codemirror_mode": {
    "name": "ipython",
    "version": 3
   },
   "file_extension": ".py",
   "mimetype": "text/x-python",
   "name": "python",
   "nbconvert_exporter": "python",
   "pygments_lexer": "ipython3",
   "version": "3.7.5"
  }
 },
 "nbformat": 4,
 "nbformat_minor": 2
}
