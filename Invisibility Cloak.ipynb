{
 "cells": [
  {
   "cell_type": "code",
   "execution_count": 1,
   "metadata": {},
   "outputs": [],
   "source": [
    "import cv2\n",
    "import numpy as np\n",
    "import time\n",
    "from utilities import *\n",
    "\n",
    "pathv = r'images/inv2.mkv'\n",
    "# pathv = r'D:\\Downloads\\IDM\\Music and Videos/asd.mkv'\n",
    "cap = cv2.VideoCapture(pathv)\n",
    "time.sleep(1) #do 3 for webcam, to opening o\n",
    "\n",
    "for i in range(3): #wating to warm up and good lighting \n",
    "    _, background = cap.read()\n",
    "    \n",
    "background = cv2.flip(background, 1)\n",
    "\n",
    "lower_orange = np.array([0,120,70])\n",
    "upper_orange = np.array([10,255,255])\n",
    "lower_red = np.array([170,120,70])\n",
    "upper_red = np.array([180,255,255])\n",
    "\n",
    "kernel = np.ones((3, 3), np.uint8)\n",
    "\n",
    "while True:\n",
    "    ret, frame = cap.read()\n",
    "    if ret is False:\n",
    "        break\n",
    "    frame = cv2.flip(frame, 1)\n",
    "    hsv = cv2.cvtColor(frame, cv2.COLOR_BGR2HSV)\n",
    "    mask1 = cv2.inRange(hsv, lower_orange, upper_orange)\n",
    "    mask2 = cv2.inRange(hsv,lower_red,upper_red)\n",
    "    mask = mask1 + mask2\n",
    "    \n",
    "    #removing noise from mask (contains only 0 & 1)\n",
    "#     mask = cv2.bitwise_and(mask, mask, mask = mask_inv)\n",
    "    mask = cv2.morphologyEx(mask, cv2.MORPH_OPEN, kernel, iterations = 2)\n",
    "    mask = cv2.morphologyEx(mask, cv2.MORPH_DILATE, kernel, iterations = 8)\n",
    "    mask_inv = cv2.bitwise_not(mask)\n",
    "    \n",
    "    #applying mask to image\n",
    "    res1 = cv2.bitwise_and(frame, frame, mask = mask_inv) #image without object (surrounding)\n",
    "    res2 = cv2.bitwise_and(background, background, mask = mask) #background of area of object\n",
    "    result = cv2.addWeighted(res1, 1, res2, 1, 0)\n",
    "    \n",
    "    cv2.imshow('result', result)\n",
    "    if cv2.waitKey(10) == 27: #13 is the Enter Key\n",
    "        break\n",
    "        \n",
    "cap.release()\n",
    "cv2.destroyAllWindows()"
   ]
  },
  {
   "cell_type": "code",
   "execution_count": null,
   "metadata": {},
   "outputs": [],
   "source": [
    "color = np.array([[[0, 255, 0]]], np.uint8)\n",
    "hsv = cv2.cvtColor(color, cv2.COLOR_BGR2HSV)\n",
    "show(color)\n",
    "hsv"
   ]
  },
  {
   "cell_type": "code",
   "execution_count": 36,
   "metadata": {},
   "outputs": [
    {
     "ename": "TypeError",
     "evalue": "'numpy.bool_' object is not iterable",
     "output_type": "error",
     "traceback": [
      "\u001b[1;31m---------------------------------------------------------------------------\u001b[0m",
      "\u001b[1;31mTypeError\u001b[0m                                 Traceback (most recent call last)",
      "\u001b[1;32m<ipython-input-36-1039594dd2d2>\u001b[0m in \u001b[0;36m<module>\u001b[1;34m\u001b[0m\n\u001b[1;32m----> 1\u001b[1;33m \u001b[0mmax\u001b[0m\u001b[1;33m(\u001b[0m\u001b[0mmask\u001b[0m\u001b[1;33m.\u001b[0m\u001b[0mall\u001b[0m\u001b[1;33m(\u001b[0m\u001b[1;33m)\u001b[0m\u001b[1;33m)\u001b[0m\u001b[1;33m\u001b[0m\u001b[1;33m\u001b[0m\u001b[0m\n\u001b[0m",
      "\u001b[1;31mTypeError\u001b[0m: 'numpy.bool_' object is not iterable"
     ]
    }
   ],
   "source": [
    "max(mask[])"
   ]
  },
  {
   "cell_type": "code",
   "execution_count": null,
   "metadata": {},
   "outputs": [],
   "source": []
  }
 ],
 "metadata": {
  "kernelspec": {
   "display_name": "Python 3",
   "language": "python",
   "name": "python3"
  },
  "language_info": {
   "codemirror_mode": {
    "name": "ipython",
    "version": 3
   },
   "file_extension": ".py",
   "mimetype": "text/x-python",
   "name": "python",
   "nbconvert_exporter": "python",
   "pygments_lexer": "ipython3",
   "version": "3.7.5"
  }
 },
 "nbformat": 4,
 "nbformat_minor": 2
}
